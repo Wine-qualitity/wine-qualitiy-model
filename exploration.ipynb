{
 "cells": [
  {
   "cell_type": "code",
   "execution_count": 1,
   "id": "44b6de32",
   "metadata": {},
   "outputs": [],
   "source": [
    "import Acquire as a\n",
    "import prepare as p\n",
    "\n",
    "from scipy import stats\n",
    "import matplotlib.pyplot as plt\n",
    "import seaborn as sns"
   ]
  },
  {
   "cell_type": "code",
   "execution_count": 2,
   "id": "59fee064",
   "metadata": {},
   "outputs": [],
   "source": [
    "df = a.acquire_data()\n",
    "train, validate, test = p.split(df)"
   ]
  },
  {
   "cell_type": "code",
   "execution_count": null,
   "id": "9eefad99",
   "metadata": {},
   "outputs": [],
   "source": []
  }
 ],
 "metadata": {
  "kernelspec": {
   "display_name": "Python 3 (ipykernel)",
   "language": "python",
   "name": "python3"
  },
  "language_info": {
   "codemirror_mode": {
    "name": "ipython",
    "version": 3
   },
   "file_extension": ".py",
   "mimetype": "text/x-python",
   "name": "python",
   "nbconvert_exporter": "python",
   "pygments_lexer": "ipython3",
   "version": "3.9.13"
  }
 },
 "nbformat": 4,
 "nbformat_minor": 5
}
