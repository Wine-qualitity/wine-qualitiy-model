{
 "cells": [
  {
   "cell_type": "code",
   "execution_count": 2,
   "id": "b6a3ed63",
   "metadata": {},
   "outputs": [],
   "source": [
    "import Acquire as a\n",
    "import prepare as p\n",
    "# import data tools\n",
    "import numpy as np\n",
    "import pandas as pd\n",
    "# import visualization tools\n",
    "import matplotlib.pyplot as plt\n",
    "import seaborn as sns\n",
    "# modeling methods\n",
    "from sklearn.metrics import mean_squared_error, explained_variance_score\n",
    "from sklearn.linear_model import LinearRegression, LassoLars, TweedieRegressor\n",
    "from sklearn.preprocessing import PolynomialFeatures\n",
    "from sklearn.feature_selection import SelectKBest, f_regression, RFE\n",
    "from sklearn.cluster import KMeans"
   ]
  },
  {
   "cell_type": "code",
   "execution_count": 3,
   "id": "52a6eb44",
   "metadata": {},
   "outputs": [],
   "source": [
    "train, validate, test = p.split(p.prepare(a.acquire_data()))"
   ]
  },
  {
   "cell_type": "code",
   "execution_count": 4,
   "id": "1d306411",
   "metadata": {},
   "outputs": [
    {
     "data": {
      "text/html": [
       "<div>\n",
       "<style scoped>\n",
       "    .dataframe tbody tr th:only-of-type {\n",
       "        vertical-align: middle;\n",
       "    }\n",
       "\n",
       "    .dataframe tbody tr th {\n",
       "        vertical-align: top;\n",
       "    }\n",
       "\n",
       "    .dataframe thead th {\n",
       "        text-align: right;\n",
       "    }\n",
       "</style>\n",
       "<table border=\"1\" class=\"dataframe\">\n",
       "  <thead>\n",
       "    <tr style=\"text-align: right;\">\n",
       "      <th></th>\n",
       "      <th>fixed_acidity</th>\n",
       "      <th>volatile_acidity</th>\n",
       "      <th>citric_acid</th>\n",
       "      <th>residual_sugar</th>\n",
       "      <th>chlorides</th>\n",
       "      <th>free_sulfur_dioxide</th>\n",
       "      <th>total_sulfur_dioxide</th>\n",
       "      <th>density</th>\n",
       "      <th>pH</th>\n",
       "      <th>sulphates</th>\n",
       "      <th>alcohol</th>\n",
       "      <th>quality</th>\n",
       "      <th>type_of_wine</th>\n",
       "    </tr>\n",
       "  </thead>\n",
       "  <tbody>\n",
       "    <tr>\n",
       "      <th>3737</th>\n",
       "      <td>5.5</td>\n",
       "      <td>0.24</td>\n",
       "      <td>0.32</td>\n",
       "      <td>8.70</td>\n",
       "      <td>0.060</td>\n",
       "      <td>19.0</td>\n",
       "      <td>102.0</td>\n",
       "      <td>0.99400</td>\n",
       "      <td>3.27</td>\n",
       "      <td>0.31</td>\n",
       "      <td>10.4</td>\n",
       "      <td>5</td>\n",
       "      <td>White</td>\n",
       "    </tr>\n",
       "    <tr>\n",
       "      <th>19</th>\n",
       "      <td>7.9</td>\n",
       "      <td>0.32</td>\n",
       "      <td>0.51</td>\n",
       "      <td>1.80</td>\n",
       "      <td>0.341</td>\n",
       "      <td>17.0</td>\n",
       "      <td>56.0</td>\n",
       "      <td>0.99690</td>\n",
       "      <td>3.04</td>\n",
       "      <td>1.08</td>\n",
       "      <td>9.2</td>\n",
       "      <td>6</td>\n",
       "      <td>Red</td>\n",
       "    </tr>\n",
       "    <tr>\n",
       "      <th>2200</th>\n",
       "      <td>7.2</td>\n",
       "      <td>0.24</td>\n",
       "      <td>0.40</td>\n",
       "      <td>1.40</td>\n",
       "      <td>0.045</td>\n",
       "      <td>31.0</td>\n",
       "      <td>106.0</td>\n",
       "      <td>0.99140</td>\n",
       "      <td>2.88</td>\n",
       "      <td>0.38</td>\n",
       "      <td>10.8</td>\n",
       "      <td>6</td>\n",
       "      <td>White</td>\n",
       "    </tr>\n",
       "    <tr>\n",
       "      <th>4139</th>\n",
       "      <td>9.0</td>\n",
       "      <td>0.29</td>\n",
       "      <td>0.34</td>\n",
       "      <td>12.10</td>\n",
       "      <td>0.030</td>\n",
       "      <td>34.0</td>\n",
       "      <td>177.0</td>\n",
       "      <td>0.99706</td>\n",
       "      <td>3.13</td>\n",
       "      <td>0.47</td>\n",
       "      <td>10.6</td>\n",
       "      <td>5</td>\n",
       "      <td>White</td>\n",
       "    </tr>\n",
       "    <tr>\n",
       "      <th>501</th>\n",
       "      <td>10.4</td>\n",
       "      <td>0.44</td>\n",
       "      <td>0.73</td>\n",
       "      <td>6.55</td>\n",
       "      <td>0.074</td>\n",
       "      <td>38.0</td>\n",
       "      <td>76.0</td>\n",
       "      <td>0.99900</td>\n",
       "      <td>3.17</td>\n",
       "      <td>0.85</td>\n",
       "      <td>12.0</td>\n",
       "      <td>7</td>\n",
       "      <td>Red</td>\n",
       "    </tr>\n",
       "  </tbody>\n",
       "</table>\n",
       "</div>"
      ],
      "text/plain": [
       "      fixed_acidity  volatile_acidity  citric_acid  residual_sugar  chlorides  \\\n",
       "3737            5.5              0.24         0.32            8.70      0.060   \n",
       "19              7.9              0.32         0.51            1.80      0.341   \n",
       "2200            7.2              0.24         0.40            1.40      0.045   \n",
       "4139            9.0              0.29         0.34           12.10      0.030   \n",
       "501            10.4              0.44         0.73            6.55      0.074   \n",
       "\n",
       "      free_sulfur_dioxide  total_sulfur_dioxide  density    pH  sulphates  \\\n",
       "3737                 19.0                 102.0  0.99400  3.27       0.31   \n",
       "19                   17.0                  56.0  0.99690  3.04       1.08   \n",
       "2200                 31.0                 106.0  0.99140  2.88       0.38   \n",
       "4139                 34.0                 177.0  0.99706  3.13       0.47   \n",
       "501                  38.0                  76.0  0.99900  3.17       0.85   \n",
       "\n",
       "      alcohol  quality type_of_wine  \n",
       "3737     10.4        5        White  \n",
       "19        9.2        6          Red  \n",
       "2200     10.8        6        White  \n",
       "4139     10.6        5        White  \n",
       "501      12.0        7          Red  "
      ]
     },
     "execution_count": 4,
     "metadata": {},
     "output_type": "execute_result"
    }
   ],
   "source": [
    "train.head()"
   ]
  },
  {
   "cell_type": "code",
   "execution_count": 7,
   "id": "71cbedcd",
   "metadata": {},
   "outputs": [
    {
     "data": {
      "text/plain": [
       "['fixed_acidity',\n",
       " 'volatile_acidity',\n",
       " 'citric_acid',\n",
       " 'residual_sugar',\n",
       " 'chlorides',\n",
       " 'free_sulfur_dioxide',\n",
       " 'total_sulfur_dioxide',\n",
       " 'density',\n",
       " 'pH',\n",
       " 'sulphates',\n",
       " 'alcohol']"
      ]
     },
     "execution_count": 7,
     "metadata": {},
     "output_type": "execute_result"
    }
   ],
   "source": [
    "train.drop(columns=drops).columns.to_list()"
   ]
  },
  {
   "cell_type": "code",
   "execution_count": null,
   "id": "9166ff9d",
   "metadata": {},
   "outputs": [],
   "source": [
    "train_scaled, validate_scaled, test_scaled = p.scale(train, validate, test)"
   ]
  },
  {
   "cell_type": "code",
   "execution_count": 5,
   "id": "deac2fa5",
   "metadata": {},
   "outputs": [],
   "source": [
    "drops = ['quality', 'type_of_wine']"
   ]
  },
  {
   "cell_type": "code",
   "execution_count": null,
   "id": "fab8cfcd",
   "metadata": {},
   "outputs": [],
   "source": [
    "X_train = train_scaled.drop(columns=drops)\n",
    "y_train = train.quality\n",
    "X_validate = validate_scaled.drop(columns=drops)\n",
    "y_validate = validate.quality\n",
    "X_test = test_scaled.drop(columns=drops)\n",
    "y_test = test.quality"
   ]
  },
  {
   "cell_type": "code",
   "execution_count": null,
   "id": "e327f6e3",
   "metadata": {},
   "outputs": [],
   "source": []
  },
  {
   "cell_type": "code",
   "execution_count": null,
   "id": "80a472e0",
   "metadata": {},
   "outputs": [],
   "source": []
  },
  {
   "cell_type": "code",
   "execution_count": null,
   "id": "20605b67",
   "metadata": {},
   "outputs": [],
   "source": []
  },
  {
   "cell_type": "code",
   "execution_count": null,
   "id": "f9972b33",
   "metadata": {},
   "outputs": [],
   "source": []
  }
 ],
 "metadata": {
  "kernelspec": {
   "display_name": "Python 3 (ipykernel)",
   "language": "python",
   "name": "python3"
  },
  "language_info": {
   "codemirror_mode": {
    "name": "ipython",
    "version": 3
   },
   "file_extension": ".py",
   "mimetype": "text/x-python",
   "name": "python",
   "nbconvert_exporter": "python",
   "pygments_lexer": "ipython3",
   "version": "3.9.13"
  }
 },
 "nbformat": 4,
 "nbformat_minor": 5
}
