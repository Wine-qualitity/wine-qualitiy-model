{
 "cells": [
  {
   "cell_type": "code",
   "execution_count": 2,
   "id": "54dc875d",
   "metadata": {},
   "outputs": [],
   "source": [
    "import Acquire as a\n",
    "import prepare as p\n",
    "# import data tools\n",
    "import numpy as np\n",
    "import pandas as pd\n",
    "# import visualization tools\n",
    "import matplotlib.pyplot as plt\n",
    "import seaborn as sns\n",
    "# modeling methods\n",
    "from sklearn.metrics import mean_squared_error, explained_variance_score\n",
    "from sklearn.linear_model import LinearRegression, LassoLars, TweedieRegressor\n",
    "from sklearn.preprocessing import PolynomialFeatures\n",
    "from sklearn.feature_selection import SelectKBest, f_regression, RFE\n",
    "from sklearn.cluster import KMeans"
   ]
  },
  {
   "cell_type": "code",
   "execution_count": 3,
   "id": "d73ddbad",
   "metadata": {},
   "outputs": [],
   "source": [
    "train, validate, test = p.split(p.prepare(a.acquire_data()))"
   ]
  },
  {
   "cell_type": "code",
   "execution_count": 4,
   "id": "19cf45cd",
   "metadata": {},
   "outputs": [
    {
     "data": {
      "text/html": [
       "<div>\n",
       "<style scoped>\n",
       "    .dataframe tbody tr th:only-of-type {\n",
       "        vertical-align: middle;\n",
       "    }\n",
       "\n",
       "    .dataframe tbody tr th {\n",
       "        vertical-align: top;\n",
       "    }\n",
       "\n",
       "    .dataframe thead th {\n",
       "        text-align: right;\n",
       "    }\n",
       "</style>\n",
       "<table border=\"1\" class=\"dataframe\">\n",
       "  <thead>\n",
       "    <tr style=\"text-align: right;\">\n",
       "      <th></th>\n",
       "      <th>fixed_acidity</th>\n",
       "      <th>volatile_acidity</th>\n",
       "      <th>citric_acid</th>\n",
       "      <th>residual_sugar</th>\n",
       "      <th>chlorides</th>\n",
       "      <th>free_sulfur_dioxide</th>\n",
       "      <th>total_sulfur_dioxide</th>\n",
       "      <th>density</th>\n",
       "      <th>pH</th>\n",
       "      <th>sulphates</th>\n",
       "      <th>alcohol</th>\n",
       "      <th>quality</th>\n",
       "      <th>type_of_wine</th>\n",
       "    </tr>\n",
       "  </thead>\n",
       "  <tbody>\n",
       "    <tr>\n",
       "      <th>3737</th>\n",
       "      <td>5.5</td>\n",
       "      <td>0.24</td>\n",
       "      <td>0.32</td>\n",
       "      <td>8.70</td>\n",
       "      <td>0.060</td>\n",
       "      <td>19.0</td>\n",
       "      <td>102.0</td>\n",
       "      <td>0.99400</td>\n",
       "      <td>3.27</td>\n",
       "      <td>0.31</td>\n",
       "      <td>10.4</td>\n",
       "      <td>5</td>\n",
       "      <td>White</td>\n",
       "    </tr>\n",
       "    <tr>\n",
       "      <th>19</th>\n",
       "      <td>7.9</td>\n",
       "      <td>0.32</td>\n",
       "      <td>0.51</td>\n",
       "      <td>1.80</td>\n",
       "      <td>0.341</td>\n",
       "      <td>17.0</td>\n",
       "      <td>56.0</td>\n",
       "      <td>0.99690</td>\n",
       "      <td>3.04</td>\n",
       "      <td>1.08</td>\n",
       "      <td>9.2</td>\n",
       "      <td>6</td>\n",
       "      <td>Red</td>\n",
       "    </tr>\n",
       "    <tr>\n",
       "      <th>2200</th>\n",
       "      <td>7.2</td>\n",
       "      <td>0.24</td>\n",
       "      <td>0.40</td>\n",
       "      <td>1.40</td>\n",
       "      <td>0.045</td>\n",
       "      <td>31.0</td>\n",
       "      <td>106.0</td>\n",
       "      <td>0.99140</td>\n",
       "      <td>2.88</td>\n",
       "      <td>0.38</td>\n",
       "      <td>10.8</td>\n",
       "      <td>6</td>\n",
       "      <td>White</td>\n",
       "    </tr>\n",
       "    <tr>\n",
       "      <th>4139</th>\n",
       "      <td>9.0</td>\n",
       "      <td>0.29</td>\n",
       "      <td>0.34</td>\n",
       "      <td>12.10</td>\n",
       "      <td>0.030</td>\n",
       "      <td>34.0</td>\n",
       "      <td>177.0</td>\n",
       "      <td>0.99706</td>\n",
       "      <td>3.13</td>\n",
       "      <td>0.47</td>\n",
       "      <td>10.6</td>\n",
       "      <td>5</td>\n",
       "      <td>White</td>\n",
       "    </tr>\n",
       "    <tr>\n",
       "      <th>501</th>\n",
       "      <td>10.4</td>\n",
       "      <td>0.44</td>\n",
       "      <td>0.73</td>\n",
       "      <td>6.55</td>\n",
       "      <td>0.074</td>\n",
       "      <td>38.0</td>\n",
       "      <td>76.0</td>\n",
       "      <td>0.99900</td>\n",
       "      <td>3.17</td>\n",
       "      <td>0.85</td>\n",
       "      <td>12.0</td>\n",
       "      <td>7</td>\n",
       "      <td>Red</td>\n",
       "    </tr>\n",
       "  </tbody>\n",
       "</table>\n",
       "</div>"
      ],
      "text/plain": [
       "      fixed_acidity  volatile_acidity  citric_acid  residual_sugar  chlorides  \\\n",
       "3737            5.5              0.24         0.32            8.70      0.060   \n",
       "19              7.9              0.32         0.51            1.80      0.341   \n",
       "2200            7.2              0.24         0.40            1.40      0.045   \n",
       "4139            9.0              0.29         0.34           12.10      0.030   \n",
       "501            10.4              0.44         0.73            6.55      0.074   \n",
       "\n",
       "      free_sulfur_dioxide  total_sulfur_dioxide  density    pH  sulphates  \\\n",
       "3737                 19.0                 102.0  0.99400  3.27       0.31   \n",
       "19                   17.0                  56.0  0.99690  3.04       1.08   \n",
       "2200                 31.0                 106.0  0.99140  2.88       0.38   \n",
       "4139                 34.0                 177.0  0.99706  3.13       0.47   \n",
       "501                  38.0                  76.0  0.99900  3.17       0.85   \n",
       "\n",
       "      alcohol  quality type_of_wine  \n",
       "3737     10.4        5        White  \n",
       "19        9.2        6          Red  \n",
       "2200     10.8        6        White  \n",
       "4139     10.6        5        White  \n",
       "501      12.0        7          Red  "
      ]
     },
     "execution_count": 4,
     "metadata": {},
     "output_type": "execute_result"
    }
   ],
   "source": [
    "train.head()"
   ]
  },
  {
   "cell_type": "code",
   "execution_count": 25,
   "id": "b27a5079",
   "metadata": {},
   "outputs": [],
   "source": [
    "cols = train.drop(columns=drops).columns.to_list()"
   ]
  },
  {
   "cell_type": "code",
   "execution_count": 8,
   "id": "3460ee53",
   "metadata": {},
   "outputs": [
    {
     "ename": "AttributeError",
     "evalue": "module 'prepare' has no attribute 'scale'",
     "output_type": "error",
     "traceback": [
      "\u001b[0;31m---------------------------------------------------------------------------\u001b[0m",
      "\u001b[0;31mAttributeError\u001b[0m                            Traceback (most recent call last)",
      "\u001b[0;32m/var/folders/49/v6sf5vy165dghytk4qv6jfhc0000gn/T/ipykernel_2083/288744873.py\u001b[0m in \u001b[0;36m<module>\u001b[0;34m\u001b[0m\n\u001b[0;32m----> 1\u001b[0;31m \u001b[0mtrain_scaled\u001b[0m\u001b[0;34m,\u001b[0m \u001b[0mvalidate_scaled\u001b[0m\u001b[0;34m,\u001b[0m \u001b[0mtest_scaled\u001b[0m \u001b[0;34m=\u001b[0m \u001b[0mp\u001b[0m\u001b[0;34m.\u001b[0m\u001b[0mscale\u001b[0m\u001b[0;34m(\u001b[0m\u001b[0mtrain\u001b[0m\u001b[0;34m,\u001b[0m \u001b[0mvalidate\u001b[0m\u001b[0;34m,\u001b[0m \u001b[0mtest\u001b[0m\u001b[0;34m)\u001b[0m\u001b[0;34m\u001b[0m\u001b[0;34m\u001b[0m\u001b[0m\n\u001b[0m",
      "\u001b[0;31mAttributeError\u001b[0m: module 'prepare' has no attribute 'scale'"
     ]
    }
   ],
   "source": [
    "# train_scaled, validate_scaled, test_scaled = p.scale(train, validate, test)"
   ]
  },
  {
   "cell_type": "code",
   "execution_count": 5,
   "id": "34538160",
   "metadata": {},
   "outputs": [],
   "source": [
    "drops = ['quality', 'type_of_wine']"
   ]
  },
  {
   "cell_type": "code",
   "execution_count": 11,
   "id": "28d45679",
   "metadata": {},
   "outputs": [],
   "source": [
    "# X_train = train_scaled.drop(columns=drops)\n",
    "X_train = train.drop(columns=drops)\n",
    "y_train = train.quality\n",
    "# X_validate = validate_scaled.drop(columns=drops)\n",
    "X_validate = validate.drop(columns=drops)\n",
    "y_validate = validate.quality\n",
    "# X_test = test_scaled.drop(columns=drops)\n",
    "X_test = test.drop(columns=drops)\n",
    "y_test = test.quality"
   ]
  },
  {
   "cell_type": "code",
   "execution_count": 17,
   "id": "21a3a25f",
   "metadata": {},
   "outputs": [],
   "source": [
    "# convert the y-variable lists into dataFrames\n",
    "y_train = pd.DataFrame(y_train)\n",
    "y_validate = pd.DataFrame(y_validate)\n",
    "y_test = pd.DataFrame(y_test)"
   ]
  },
  {
   "cell_type": "markdown",
   "id": "1480ae8f",
   "metadata": {},
   "source": [
    "## Feature selection\n"
   ]
  },
  {
   "cell_type": "code",
   "execution_count": 27,
   "id": "92c7418e",
   "metadata": {},
   "outputs": [],
   "source": [
    "# K-Best selector\n",
    "# parameters: f_regression stats test, give me 4 features\n",
    "f_selector = SelectKBest(f_regression, k=4)\n",
    "\n",
    "# find the top 3 X's correlated with y\n",
    "f_selector.fit(X_train[cols], y_train.quality)\n",
    "\n",
    "# boolean mask of whether the column was selected or not. \n",
    "feature_mask = f_selector.get_support()\n",
    "\n",
    "# get list of top K features. \n",
    "f_feature_kbest = X_train.iloc[:,feature_mask].columns.tolist()"
   ]
  },
  {
   "cell_type": "code",
   "execution_count": 13,
   "id": "4c6ffcfb",
   "metadata": {},
   "outputs": [
    {
     "data": {
      "text/plain": [
       "['volatile_acidity', 'chlorides', 'density', 'alcohol']"
      ]
     },
     "execution_count": 13,
     "metadata": {},
     "output_type": "execute_result"
    }
   ],
   "source": [
    "f_feature_kbest"
   ]
  },
  {
   "cell_type": "code",
   "execution_count": 28,
   "id": "d606e121",
   "metadata": {},
   "outputs": [],
   "source": [
    "# RFE selector\n",
    "\n",
    "lm = LinearRegression()\n",
    "# parameters: f_regression stats test, give me 4 features\n",
    "f_selector = RFE(lm, n_features_to_select=4)\n",
    "\n",
    "# find the top 3 X's correlated with y\n",
    "f_selector.fit(X_train[cols], y_train.quality)\n",
    "\n",
    "# boolean mask of whether the column was selected or not. \n",
    "feature_mask = f_selector.get_support()\n",
    "\n",
    "# get list of top K features. \n",
    "f_feature_rfe = X_train.iloc[:,feature_mask].columns.tolist()"
   ]
  },
  {
   "cell_type": "code",
   "execution_count": 16,
   "id": "8110835f",
   "metadata": {},
   "outputs": [
    {
     "data": {
      "text/plain": [
       "['volatile_acidity', 'chlorides', 'density', 'sulphates']"
      ]
     },
     "execution_count": 16,
     "metadata": {},
     "output_type": "execute_result"
    }
   ],
   "source": [
    "f_feature_rfe"
   ]
  },
  {
   "cell_type": "markdown",
   "id": "15dba39e",
   "metadata": {},
   "source": [
    "# Modeling"
   ]
  },
  {
   "cell_type": "markdown",
   "id": "1d7789f6",
   "metadata": {},
   "source": [
    "## Establish Baseline"
   ]
  },
  {
   "cell_type": "code",
   "execution_count": 19,
   "id": "e6db5240",
   "metadata": {},
   "outputs": [],
   "source": [
    "# add mean quality scores to y DataFrames\n",
    "y_train['quality_pred_mean'] = y_train.quality.mean()\n",
    "y_validate['quality_pred_mean'] = y_train.quality.mean()\n",
    "# add median quality scores to y DataFrames\n",
    "y_train['quality_pred_med'] = y_train.quality.median()\n",
    "y_validate['quality_pred_med'] = y_train.quality.median()"
   ]
  },
  {
   "cell_type": "code",
   "execution_count": 21,
   "id": "8869f9d0",
   "metadata": {},
   "outputs": [],
   "source": [
    "# get RMSE scores for baseline based on mean\n",
    "rmse_train_mu = mean_squared_error(y_train.quality,\n",
    "                                   y_train.quality_pred_mean, squared=False)\n",
    "rmse_validate_mu = mean_squared_error(y_validate.quality, \n",
    "                                      y_validate.quality_pred_mean, squared=False)\n",
    "# get RMSE scores for baseline based on median\n",
    "rmse_train_med = mean_squared_error(y_train.quality, \n",
    "                                    y_train.quality_pred_med, squared=False)\n",
    "rmse_validate_med = mean_squared_error(y_validate.quality, \n",
    "                                       y_validate.quality_pred_med, squared=False)"
   ]
  },
  {
   "cell_type": "code",
   "execution_count": 22,
   "id": "fea1d5b9",
   "metadata": {},
   "outputs": [],
   "source": [
    "metric_df = pd.DataFrame(data=[\n",
    "    {\n",
    "        'model' : 'mean_baseline',\n",
    "        'RMSE_train' : rmse_train_mu,\n",
    "        'RMSE_validate' : rmse_validate_mu,\n",
    "        'difference' : rmse_validate_mu - rmse_train_mu,\n",
    "        'R2' : explained_variance_score(y_validate.quality,\n",
    "                                       y_validate.quality_pred_mean)\n",
    "    }\n",
    "])"
   ]
  },
  {
   "cell_type": "code",
   "execution_count": 23,
   "id": "b4513192",
   "metadata": {},
   "outputs": [
    {
     "data": {
      "text/html": [
       "<div>\n",
       "<style scoped>\n",
       "    .dataframe tbody tr th:only-of-type {\n",
       "        vertical-align: middle;\n",
       "    }\n",
       "\n",
       "    .dataframe tbody tr th {\n",
       "        vertical-align: top;\n",
       "    }\n",
       "\n",
       "    .dataframe thead th {\n",
       "        text-align: right;\n",
       "    }\n",
       "</style>\n",
       "<table border=\"1\" class=\"dataframe\">\n",
       "  <thead>\n",
       "    <tr style=\"text-align: right;\">\n",
       "      <th></th>\n",
       "      <th>model</th>\n",
       "      <th>RMSE_train</th>\n",
       "      <th>RMSE_validate</th>\n",
       "      <th>difference</th>\n",
       "      <th>R2</th>\n",
       "    </tr>\n",
       "  </thead>\n",
       "  <tbody>\n",
       "    <tr>\n",
       "      <th>0</th>\n",
       "      <td>mean_baseline</td>\n",
       "      <td>0.866273</td>\n",
       "      <td>0.889468</td>\n",
       "      <td>0.023195</td>\n",
       "      <td>0.0</td>\n",
       "    </tr>\n",
       "  </tbody>\n",
       "</table>\n",
       "</div>"
      ],
      "text/plain": [
       "           model  RMSE_train  RMSE_validate  difference   R2\n",
       "0  mean_baseline    0.866273       0.889468    0.023195  0.0"
      ]
     },
     "execution_count": 23,
     "metadata": {},
     "output_type": "execute_result"
    }
   ],
   "source": [
    "metric_df"
   ]
  },
  {
   "cell_type": "code",
   "execution_count": null,
   "id": "bf5e1b40",
   "metadata": {},
   "outputs": [],
   "source": [
    "def get_baseline_model(y_train):\n",
    "    '''\n",
    "    This function will print the mean baseline RMSE and R^2 scores\n",
    "    '''\n",
    "    rmse_train_mu = mean_squared_error(y_train.tax_value,\n",
    "                                   y_train.tax_value_pred_mean, squared=False)\n",
    "    print('Baseline Model (mean)')\n",
    "    print(f'RMSE for baseline model: {rmse_train_mu:.08}')\n",
    "    print('R^2 for baseline model: 0.0')"
   ]
  },
  {
   "cell_type": "markdown",
   "id": "d78380ba",
   "metadata": {},
   "source": [
    "## Oridinary Least Squares"
   ]
  },
  {
   "cell_type": "code",
   "execution_count": 30,
   "id": "af7666fb",
   "metadata": {},
   "outputs": [],
   "source": [
    "# make the model\n",
    "lm_kbest = LinearRegression()\n",
    "# fit the model on the training data\n",
    "lm_kbest.fit(X_train[f_feature_kbest], y_train.quality)\n",
    "# use the model make predictions on the training data\n",
    "y_train['quality_pred_lm_kbest'] = lm_kbest.predict(X_train[f_feature_kbest])\n",
    "# Evaluate: RMSE\n",
    "rmse_train = mean_squared_error(y_train.quality, \n",
    "                                y_train.quality_pred_lm_kbest, squared=False)\n",
    "\n",
    "# repeat usage on validate\n",
    "y_validate['quality_pred_lm_kbest'] = lm_kbest.predict(\n",
    "    X_validate[f_feature_kbest])\n",
    "# evaluate: RMSE\n",
    "rmse_validate = mean_squared_error(y_validate.quality, \n",
    "                                   y_validate.quality_pred_lm_kbest, squared=False)"
   ]
  },
  {
   "cell_type": "code",
   "execution_count": 32,
   "id": "0bc19c59",
   "metadata": {},
   "outputs": [
    {
     "name": "stderr",
     "output_type": "stream",
     "text": [
      "/var/folders/49/v6sf5vy165dghytk4qv6jfhc0000gn/T/ipykernel_2083/4216574684.py:3: FutureWarning: The frame.append method is deprecated and will be removed from pandas in a future version. Use pandas.concat instead.\n",
      "  metric_df = metric_df.append(\n"
     ]
    }
   ],
   "source": [
    "#Append this to the metric_df\n",
    "\n",
    "metric_df = metric_df.append(\n",
    "    {\n",
    "        'model' : 'OLS-KBest features',\n",
    "        'RMSE_train' : rmse_train,\n",
    "        'RMSE_validate' : rmse_validate,\n",
    "        'difference' : rmse_validate - rmse_train,\n",
    "        'R2' : explained_variance_score(y_validate.quality,\n",
    "                                       y_validate.quality_pred_lm_kbest)\n",
    "    }, ignore_index=True\n",
    ")"
   ]
  },
  {
   "cell_type": "code",
   "execution_count": 35,
   "id": "ebe4140d",
   "metadata": {},
   "outputs": [],
   "source": [
    "# make the model\n",
    "lm_rfe = LinearRegression()\n",
    "# fit the model on the training data\n",
    "lm_rfe.fit(X_train[f_feature_rfe], y_train.quality)\n",
    "# use the model make predictions on the training data\n",
    "y_train['quality_pred_lm_rfe'] = lm_rfe.predict(X_train[f_feature_rfe])\n",
    "# Evaluate: RMSE\n",
    "rmse_train = mean_squared_error(y_train.quality, \n",
    "                                y_train.quality_pred_lm_rfe, squared=False)\n",
    "\n",
    "# repeat usage on validate\n",
    "y_validate['quality_pred_lm_rfe'] = lm_rfe.predict(\n",
    "    X_validate[f_feature_rfe])\n",
    "# evaluate: RMSE\n",
    "rmse_validate = mean_squared_error(y_validate.quality, \n",
    "                                   y_validate.quality_pred_lm_rfe, squared=False)"
   ]
  },
  {
   "cell_type": "code",
   "execution_count": 36,
   "id": "0d7d749c",
   "metadata": {},
   "outputs": [
    {
     "name": "stderr",
     "output_type": "stream",
     "text": [
      "/var/folders/49/v6sf5vy165dghytk4qv6jfhc0000gn/T/ipykernel_2083/2271138136.py:3: FutureWarning: The frame.append method is deprecated and will be removed from pandas in a future version. Use pandas.concat instead.\n",
      "  metric_df = metric_df.append(\n"
     ]
    }
   ],
   "source": [
    "#Append this to the metric_df\n",
    "\n",
    "metric_df = metric_df.append(\n",
    "    {\n",
    "        'model' : 'OLS-rfe features',\n",
    "        'RMSE_train' : rmse_train,\n",
    "        'RMSE_validate' : rmse_validate,\n",
    "        'difference' : rmse_validate - rmse_train,\n",
    "        'R2' : explained_variance_score(y_validate.quality,\n",
    "                                       y_validate.quality_pred_lm_rfe)\n",
    "    }, ignore_index=True\n",
    ")"
   ]
  },
  {
   "cell_type": "code",
   "execution_count": 37,
   "id": "47f423a7",
   "metadata": {},
   "outputs": [
    {
     "data": {
      "text/html": [
       "<div>\n",
       "<style scoped>\n",
       "    .dataframe tbody tr th:only-of-type {\n",
       "        vertical-align: middle;\n",
       "    }\n",
       "\n",
       "    .dataframe tbody tr th {\n",
       "        vertical-align: top;\n",
       "    }\n",
       "\n",
       "    .dataframe thead th {\n",
       "        text-align: right;\n",
       "    }\n",
       "</style>\n",
       "<table border=\"1\" class=\"dataframe\">\n",
       "  <thead>\n",
       "    <tr style=\"text-align: right;\">\n",
       "      <th></th>\n",
       "      <th>model</th>\n",
       "      <th>RMSE_train</th>\n",
       "      <th>RMSE_validate</th>\n",
       "      <th>difference</th>\n",
       "      <th>R2</th>\n",
       "    </tr>\n",
       "  </thead>\n",
       "  <tbody>\n",
       "    <tr>\n",
       "      <th>0</th>\n",
       "      <td>mean_baseline</td>\n",
       "      <td>0.866273</td>\n",
       "      <td>0.889468</td>\n",
       "      <td>0.023195</td>\n",
       "      <td>0.000000</td>\n",
       "    </tr>\n",
       "    <tr>\n",
       "      <th>1</th>\n",
       "      <td>OLS-KBest features</td>\n",
       "      <td>0.743465</td>\n",
       "      <td>0.755903</td>\n",
       "      <td>0.012438</td>\n",
       "      <td>0.277938</td>\n",
       "    </tr>\n",
       "    <tr>\n",
       "      <th>2</th>\n",
       "      <td>OLS-rfe features</td>\n",
       "      <td>0.796045</td>\n",
       "      <td>0.801053</td>\n",
       "      <td>0.005008</td>\n",
       "      <td>0.189190</td>\n",
       "    </tr>\n",
       "  </tbody>\n",
       "</table>\n",
       "</div>"
      ],
      "text/plain": [
       "                model  RMSE_train  RMSE_validate  difference        R2\n",
       "0       mean_baseline    0.866273       0.889468    0.023195  0.000000\n",
       "1  OLS-KBest features    0.743465       0.755903    0.012438  0.277938\n",
       "2    OLS-rfe features    0.796045       0.801053    0.005008  0.189190"
      ]
     },
     "execution_count": 37,
     "metadata": {},
     "output_type": "execute_result"
    }
   ],
   "source": [
    "metric_df"
   ]
  },
  {
   "cell_type": "markdown",
   "id": "e381d70f",
   "metadata": {},
   "source": [
    "## LASSO + LARS"
   ]
  },
  {
   "cell_type": "code",
   "execution_count": 42,
   "id": "3456d68a",
   "metadata": {},
   "outputs": [
    {
     "name": "stderr",
     "output_type": "stream",
     "text": [
      "/opt/anaconda3/lib/python3.9/site-packages/sklearn/linear_model/_base.py:133: FutureWarning: The default of 'normalize' will be set to False in version 1.2 and deprecated in version 1.4.\n",
      "If you wish to scale the data, use Pipeline with a StandardScaler in a preprocessing stage. To reproduce the previous behavior:\n",
      "\n",
      "from sklearn.pipeline import make_pipeline\n",
      "\n",
      "model = make_pipeline(StandardScaler(with_mean=False), LassoLars())\n",
      "\n",
      "If you wish to pass a sample_weight parameter, you need to pass it as a fit parameter to each step of the pipeline as follows:\n",
      "\n",
      "kwargs = {s[0] + '__sample_weight': sample_weight for s in model.steps}\n",
      "model.fit(X, y, **kwargs)\n",
      "\n",
      "Set parameter alpha to: original_alpha * np.sqrt(n_samples). \n",
      "  warnings.warn(\n"
     ]
    }
   ],
   "source": [
    "# make la thing\n",
    "lars_kbest = LassoLars(alpha=0.1)\n",
    "# fit za thing\n",
    "lars_kbest.fit(X_train[f_feature_kbest], y_train.quality)\n",
    "# usage of a thing\n",
    "y_train['quality_pred_lars_01_kbest'] = lars_kbest.predict(\n",
    "    X_train[f_feature_kbest])\n",
    "# Evaluate: RMSE\n",
    "rmse_train = mean_squared_error(y_train.quality, \n",
    "                                y_train.quality_pred_lars_01_kbest, squared=False)\n",
    "\n",
    "# repeat usage on validate\n",
    "y_validate['quality_pred_lars_01_kbest'] = lars_kbest.predict(\n",
    "    X_validate[f_feature_kbest])\n",
    "# evaluate: RMSE\n",
    "rmse_validate = mean_squared_error(y_validate.quality, \n",
    "                                   y_validate.quality_pred_lars_01_kbest, squared=False)"
   ]
  },
  {
   "cell_type": "code",
   "execution_count": 43,
   "id": "f9f29d10",
   "metadata": {},
   "outputs": [
    {
     "name": "stderr",
     "output_type": "stream",
     "text": [
      "/var/folders/49/v6sf5vy165dghytk4qv6jfhc0000gn/T/ipykernel_2083/2002484926.py:3: FutureWarning: The frame.append method is deprecated and will be removed from pandas in a future version. Use pandas.concat instead.\n",
      "  metric_df = metric_df.append(\n"
     ]
    }
   ],
   "source": [
    "#Append the lars model to the metric_df\n",
    "\n",
    "metric_df = metric_df.append(\n",
    "    {\n",
    "        'model' : 'Lasso + Lars-kbest-0.1',\n",
    "        'RMSE_train' : rmse_train,\n",
    "        'RMSE_validate' : rmse_validate,\n",
    "        'difference' : rmse_validate - rmse_train,\n",
    "        'R2' : explained_variance_score(y_validate.quality,\n",
    "                                       y_validate.quality_pred_lars_01_kbest)\n",
    "    }, ignore_index=True\n",
    ")"
   ]
  },
  {
   "cell_type": "code",
   "execution_count": 45,
   "id": "1ac3d6d1",
   "metadata": {},
   "outputs": [
    {
     "name": "stderr",
     "output_type": "stream",
     "text": [
      "/opt/anaconda3/lib/python3.9/site-packages/sklearn/linear_model/_base.py:133: FutureWarning: The default of 'normalize' will be set to False in version 1.2 and deprecated in version 1.4.\n",
      "If you wish to scale the data, use Pipeline with a StandardScaler in a preprocessing stage. To reproduce the previous behavior:\n",
      "\n",
      "from sklearn.pipeline import make_pipeline\n",
      "\n",
      "model = make_pipeline(StandardScaler(with_mean=False), LassoLars())\n",
      "\n",
      "If you wish to pass a sample_weight parameter, you need to pass it as a fit parameter to each step of the pipeline as follows:\n",
      "\n",
      "kwargs = {s[0] + '__sample_weight': sample_weight for s in model.steps}\n",
      "model.fit(X, y, **kwargs)\n",
      "\n",
      "Set parameter alpha to: original_alpha * np.sqrt(n_samples). \n",
      "  warnings.warn(\n"
     ]
    }
   ],
   "source": [
    "# make la thing\n",
    "lars_rfe = LassoLars(alpha=0.1)\n",
    "# fit za thing\n",
    "lars_rfe.fit(X_train[f_feature_rfe], y_train.quality)\n",
    "# usage of a thing\n",
    "y_train['quality_pred_lars_01_rfe'] = lars_rfe.predict(\n",
    "    X_train[f_feature_rfe])\n",
    "# Evaluate: RMSE\n",
    "rmse_train = mean_squared_error(y_train.quality, \n",
    "                                y_train.quality_pred_lars_01_rfe, squared=False)\n",
    "\n",
    "# repeat usage on validate\n",
    "y_validate['quality_pred_lars_01_rfe'] = lars_rfe.predict(\n",
    "    X_validate[f_feature_rfe])\n",
    "# evaluate: RMSE\n",
    "rmse_validate = mean_squared_error(y_validate.quality, \n",
    "                                   y_validate.quality_pred_lars_01_rfe, squared=False)"
   ]
  },
  {
   "cell_type": "code",
   "execution_count": 46,
   "id": "b82b3709",
   "metadata": {},
   "outputs": [
    {
     "name": "stderr",
     "output_type": "stream",
     "text": [
      "/var/folders/49/v6sf5vy165dghytk4qv6jfhc0000gn/T/ipykernel_2083/1391429626.py:2: FutureWarning: The frame.append method is deprecated and will be removed from pandas in a future version. Use pandas.concat instead.\n",
      "  metric_df = metric_df.append(\n"
     ]
    }
   ],
   "source": [
    "#Append the lars model to the metric_df\n",
    "metric_df = metric_df.append(\n",
    "    {\n",
    "        'model' : 'Lasso + Lars-rfe-0.1',\n",
    "        'RMSE_train' : rmse_train,\n",
    "        'RMSE_validate' : rmse_validate,\n",
    "        'difference' : rmse_validate - rmse_train,\n",
    "        'R2' : explained_variance_score(y_validate.quality,\n",
    "                                       y_validate.quality_pred_lars_01_rfe)\n",
    "    }, ignore_index=True\n",
    ")"
   ]
  },
  {
   "cell_type": "code",
   "execution_count": 47,
   "id": "67adefd0",
   "metadata": {},
   "outputs": [
    {
     "data": {
      "text/html": [
       "<div>\n",
       "<style scoped>\n",
       "    .dataframe tbody tr th:only-of-type {\n",
       "        vertical-align: middle;\n",
       "    }\n",
       "\n",
       "    .dataframe tbody tr th {\n",
       "        vertical-align: top;\n",
       "    }\n",
       "\n",
       "    .dataframe thead th {\n",
       "        text-align: right;\n",
       "    }\n",
       "</style>\n",
       "<table border=\"1\" class=\"dataframe\">\n",
       "  <thead>\n",
       "    <tr style=\"text-align: right;\">\n",
       "      <th></th>\n",
       "      <th>model</th>\n",
       "      <th>RMSE_train</th>\n",
       "      <th>RMSE_validate</th>\n",
       "      <th>difference</th>\n",
       "      <th>R2</th>\n",
       "    </tr>\n",
       "  </thead>\n",
       "  <tbody>\n",
       "    <tr>\n",
       "      <th>0</th>\n",
       "      <td>mean_baseline</td>\n",
       "      <td>0.866273</td>\n",
       "      <td>0.889468</td>\n",
       "      <td>0.023195</td>\n",
       "      <td>0.000000</td>\n",
       "    </tr>\n",
       "    <tr>\n",
       "      <th>1</th>\n",
       "      <td>OLS-KBest features</td>\n",
       "      <td>0.743465</td>\n",
       "      <td>0.755903</td>\n",
       "      <td>0.012438</td>\n",
       "      <td>0.277938</td>\n",
       "    </tr>\n",
       "    <tr>\n",
       "      <th>2</th>\n",
       "      <td>OLS-rfe features</td>\n",
       "      <td>0.796045</td>\n",
       "      <td>0.801053</td>\n",
       "      <td>0.005008</td>\n",
       "      <td>0.189190</td>\n",
       "    </tr>\n",
       "    <tr>\n",
       "      <th>3</th>\n",
       "      <td>Lasso + Lars-kbest-0.1</td>\n",
       "      <td>0.866273</td>\n",
       "      <td>0.889468</td>\n",
       "      <td>0.023195</td>\n",
       "      <td>0.000000</td>\n",
       "    </tr>\n",
       "    <tr>\n",
       "      <th>4</th>\n",
       "      <td>Lasso + Lars-rfe-0.1</td>\n",
       "      <td>0.866273</td>\n",
       "      <td>0.889468</td>\n",
       "      <td>0.023195</td>\n",
       "      <td>0.000000</td>\n",
       "    </tr>\n",
       "  </tbody>\n",
       "</table>\n",
       "</div>"
      ],
      "text/plain": [
       "                    model  RMSE_train  RMSE_validate  difference        R2\n",
       "0           mean_baseline    0.866273       0.889468    0.023195  0.000000\n",
       "1      OLS-KBest features    0.743465       0.755903    0.012438  0.277938\n",
       "2        OLS-rfe features    0.796045       0.801053    0.005008  0.189190\n",
       "3  Lasso + Lars-kbest-0.1    0.866273       0.889468    0.023195  0.000000\n",
       "4    Lasso + Lars-rfe-0.1    0.866273       0.889468    0.023195  0.000000"
      ]
     },
     "execution_count": 47,
     "metadata": {},
     "output_type": "execute_result"
    }
   ],
   "source": [
    "metric_df"
   ]
  },
  {
   "cell_type": "code",
   "execution_count": 48,
   "id": "68610fe4",
   "metadata": {},
   "outputs": [
    {
     "name": "stderr",
     "output_type": "stream",
     "text": [
      "/opt/anaconda3/lib/python3.9/site-packages/sklearn/linear_model/_base.py:133: FutureWarning: The default of 'normalize' will be set to False in version 1.2 and deprecated in version 1.4.\n",
      "If you wish to scale the data, use Pipeline with a StandardScaler in a preprocessing stage. To reproduce the previous behavior:\n",
      "\n",
      "from sklearn.pipeline import make_pipeline\n",
      "\n",
      "model = make_pipeline(StandardScaler(with_mean=False), LassoLars())\n",
      "\n",
      "If you wish to pass a sample_weight parameter, you need to pass it as a fit parameter to each step of the pipeline as follows:\n",
      "\n",
      "kwargs = {s[0] + '__sample_weight': sample_weight for s in model.steps}\n",
      "model.fit(X, y, **kwargs)\n",
      "\n",
      "Set parameter alpha to: original_alpha * np.sqrt(n_samples). \n",
      "  warnings.warn(\n"
     ]
    }
   ],
   "source": [
    "# make la thing\n",
    "lars_kbest = LassoLars(alpha=0.01)\n",
    "# fit za thing\n",
    "lars_kbest.fit(X_train[f_feature_kbest], y_train.quality)\n",
    "# usage of a thing\n",
    "y_train['quality_pred_lars_001_kbest'] = lars_kbest.predict(\n",
    "    X_train[f_feature_kbest])\n",
    "# Evaluate: RMSE\n",
    "rmse_train = mean_squared_error(y_train.quality, \n",
    "                                y_train.quality_pred_lars_001_kbest, squared=False)\n",
    "\n",
    "# repeat usage on validate\n",
    "y_validate['quality_pred_lars_001_kbest'] = lars_kbest.predict(\n",
    "    X_validate[f_feature_kbest])\n",
    "# evaluate: RMSE\n",
    "rmse_validate = mean_squared_error(y_validate.quality, \n",
    "                                   y_validate.quality_pred_lars_001_kbest, squared=False)"
   ]
  },
  {
   "cell_type": "code",
   "execution_count": 49,
   "id": "6c61cd3a",
   "metadata": {},
   "outputs": [
    {
     "name": "stderr",
     "output_type": "stream",
     "text": [
      "/var/folders/49/v6sf5vy165dghytk4qv6jfhc0000gn/T/ipykernel_2083/4066721071.py:3: FutureWarning: The frame.append method is deprecated and will be removed from pandas in a future version. Use pandas.concat instead.\n",
      "  metric_df = metric_df.append(\n"
     ]
    }
   ],
   "source": [
    "#Append the lars model to the metric_df\n",
    "\n",
    "metric_df = metric_df.append(\n",
    "    {\n",
    "        'model' : 'Lasso + Lars-kbest-0.01',\n",
    "        'RMSE_train' : rmse_train,\n",
    "        'RMSE_validate' : rmse_validate,\n",
    "        'difference' : rmse_validate - rmse_train,\n",
    "        'R2' : explained_variance_score(y_validate.quality,\n",
    "                                       y_validate.quality_pred_lars_001_kbest)\n",
    "    }, ignore_index=True\n",
    ")"
   ]
  },
  {
   "cell_type": "code",
   "execution_count": 50,
   "id": "02728733",
   "metadata": {},
   "outputs": [
    {
     "name": "stderr",
     "output_type": "stream",
     "text": [
      "/opt/anaconda3/lib/python3.9/site-packages/sklearn/linear_model/_base.py:133: FutureWarning: The default of 'normalize' will be set to False in version 1.2 and deprecated in version 1.4.\n",
      "If you wish to scale the data, use Pipeline with a StandardScaler in a preprocessing stage. To reproduce the previous behavior:\n",
      "\n",
      "from sklearn.pipeline import make_pipeline\n",
      "\n",
      "model = make_pipeline(StandardScaler(with_mean=False), LassoLars())\n",
      "\n",
      "If you wish to pass a sample_weight parameter, you need to pass it as a fit parameter to each step of the pipeline as follows:\n",
      "\n",
      "kwargs = {s[0] + '__sample_weight': sample_weight for s in model.steps}\n",
      "model.fit(X, y, **kwargs)\n",
      "\n",
      "Set parameter alpha to: original_alpha * np.sqrt(n_samples). \n",
      "  warnings.warn(\n"
     ]
    }
   ],
   "source": [
    "# make la thing\n",
    "lars_rfe = LassoLars(alpha=0.01)\n",
    "# fit za thing\n",
    "lars_rfe.fit(X_train[f_feature_rfe], y_train.quality)\n",
    "# usage of a thing\n",
    "y_train['quality_pred_lars_001_rfe'] = lars_rfe.predict(\n",
    "    X_train[f_feature_rfe])\n",
    "# Evaluate: RMSE\n",
    "rmse_train = mean_squared_error(y_train.quality, \n",
    "                                y_train.quality_pred_lars_001_rfe, squared=False)\n",
    "\n",
    "# repeat usage on validate\n",
    "y_validate['quality_pred_lars_001_rfe'] = lars_rfe.predict(\n",
    "    X_validate[f_feature_rfe])\n",
    "# evaluate: RMSE\n",
    "rmse_validate = mean_squared_error(y_validate.quality, \n",
    "                                   y_validate.quality_pred_lars_001_rfe, squared=False)"
   ]
  },
  {
   "cell_type": "code",
   "execution_count": 51,
   "id": "761f43f1",
   "metadata": {},
   "outputs": [
    {
     "name": "stderr",
     "output_type": "stream",
     "text": [
      "/var/folders/49/v6sf5vy165dghytk4qv6jfhc0000gn/T/ipykernel_2083/2307692599.py:2: FutureWarning: The frame.append method is deprecated and will be removed from pandas in a future version. Use pandas.concat instead.\n",
      "  metric_df = metric_df.append(\n"
     ]
    }
   ],
   "source": [
    "#Append the lars model to the metric_df\n",
    "metric_df = metric_df.append(\n",
    "    {\n",
    "        'model' : 'Lasso + Lars-rfe-0.01',\n",
    "        'RMSE_train' : rmse_train,\n",
    "        'RMSE_validate' : rmse_validate,\n",
    "        'difference' : rmse_validate - rmse_train,\n",
    "        'R2' : explained_variance_score(y_validate.quality,\n",
    "                                       y_validate.quality_pred_lars_001_rfe)\n",
    "    }, ignore_index=True\n",
    ")"
   ]
  },
  {
   "cell_type": "code",
   "execution_count": 52,
   "id": "b81a3348",
   "metadata": {},
   "outputs": [
    {
     "data": {
      "text/html": [
       "<div>\n",
       "<style scoped>\n",
       "    .dataframe tbody tr th:only-of-type {\n",
       "        vertical-align: middle;\n",
       "    }\n",
       "\n",
       "    .dataframe tbody tr th {\n",
       "        vertical-align: top;\n",
       "    }\n",
       "\n",
       "    .dataframe thead th {\n",
       "        text-align: right;\n",
       "    }\n",
       "</style>\n",
       "<table border=\"1\" class=\"dataframe\">\n",
       "  <thead>\n",
       "    <tr style=\"text-align: right;\">\n",
       "      <th></th>\n",
       "      <th>model</th>\n",
       "      <th>RMSE_train</th>\n",
       "      <th>RMSE_validate</th>\n",
       "      <th>difference</th>\n",
       "      <th>R2</th>\n",
       "    </tr>\n",
       "  </thead>\n",
       "  <tbody>\n",
       "    <tr>\n",
       "      <th>0</th>\n",
       "      <td>mean_baseline</td>\n",
       "      <td>0.866273</td>\n",
       "      <td>0.889468</td>\n",
       "      <td>0.023195</td>\n",
       "      <td>0.000000</td>\n",
       "    </tr>\n",
       "    <tr>\n",
       "      <th>1</th>\n",
       "      <td>OLS-KBest features</td>\n",
       "      <td>0.743465</td>\n",
       "      <td>0.755903</td>\n",
       "      <td>0.012438</td>\n",
       "      <td>0.277938</td>\n",
       "    </tr>\n",
       "    <tr>\n",
       "      <th>2</th>\n",
       "      <td>OLS-rfe features</td>\n",
       "      <td>0.796045</td>\n",
       "      <td>0.801053</td>\n",
       "      <td>0.005008</td>\n",
       "      <td>0.189190</td>\n",
       "    </tr>\n",
       "    <tr>\n",
       "      <th>3</th>\n",
       "      <td>Lasso + Lars-kbest-0.1</td>\n",
       "      <td>0.866273</td>\n",
       "      <td>0.889468</td>\n",
       "      <td>0.023195</td>\n",
       "      <td>0.000000</td>\n",
       "    </tr>\n",
       "    <tr>\n",
       "      <th>4</th>\n",
       "      <td>Lasso + Lars-rfe-0.1</td>\n",
       "      <td>0.866273</td>\n",
       "      <td>0.889468</td>\n",
       "      <td>0.023195</td>\n",
       "      <td>0.000000</td>\n",
       "    </tr>\n",
       "    <tr>\n",
       "      <th>5</th>\n",
       "      <td>Lasso + Lars-kbest-0.01</td>\n",
       "      <td>0.866273</td>\n",
       "      <td>0.889468</td>\n",
       "      <td>0.023195</td>\n",
       "      <td>0.000000</td>\n",
       "    </tr>\n",
       "    <tr>\n",
       "      <th>6</th>\n",
       "      <td>Lasso + Lars-rfe-0.01</td>\n",
       "      <td>0.866273</td>\n",
       "      <td>0.889468</td>\n",
       "      <td>0.023195</td>\n",
       "      <td>0.000000</td>\n",
       "    </tr>\n",
       "  </tbody>\n",
       "</table>\n",
       "</div>"
      ],
      "text/plain": [
       "                     model  RMSE_train  RMSE_validate  difference        R2\n",
       "0            mean_baseline    0.866273       0.889468    0.023195  0.000000\n",
       "1       OLS-KBest features    0.743465       0.755903    0.012438  0.277938\n",
       "2         OLS-rfe features    0.796045       0.801053    0.005008  0.189190\n",
       "3   Lasso + Lars-kbest-0.1    0.866273       0.889468    0.023195  0.000000\n",
       "4     Lasso + Lars-rfe-0.1    0.866273       0.889468    0.023195  0.000000\n",
       "5  Lasso + Lars-kbest-0.01    0.866273       0.889468    0.023195  0.000000\n",
       "6    Lasso + Lars-rfe-0.01    0.866273       0.889468    0.023195  0.000000"
      ]
     },
     "execution_count": 52,
     "metadata": {},
     "output_type": "execute_result"
    }
   ],
   "source": [
    "metric_df"
   ]
  },
  {
   "cell_type": "markdown",
   "id": "ab68e347",
   "metadata": {},
   "source": [
    "## Generalized Linear Model - Power 0"
   ]
  },
  {
   "cell_type": "code",
   "execution_count": 54,
   "id": "51707f11",
   "metadata": {},
   "outputs": [],
   "source": [
    "# make la thing\n",
    "glm_kbest_pow0 = TweedieRegressor(power=0, alpha=0)\n",
    "# fit za thing\n",
    "glm_kbest_pow0.fit(X_train[f_feature_kbest], y_train.quality)\n",
    "# usage of a thing\n",
    "y_train['quality_pred_glm_kbest_pow0'] = glm_kbest_pow0.predict(\n",
    "    X_train[f_feature_kbest])\n",
    "# Evaluate: RMSE\n",
    "rmse_train = mean_squared_error(y_train.quality, \n",
    "                                y_train.quality_pred_glm_kbest_pow0, squared=False)\n",
    "\n",
    "# repeat usage on validate\n",
    "y_validate['quality_pred_glm_kbest_pow0'] = glm_kbest_pow0.predict(\n",
    "    X_validate[f_feature_kbest])\n",
    "# evaluate: RMSE\n",
    "rmse_validate = mean_squared_error(y_validate.quality, \n",
    "                                   y_validate.quality_pred_glm_kbest_pow0, squared=False)"
   ]
  },
  {
   "cell_type": "code",
   "execution_count": 55,
   "id": "100e6f23",
   "metadata": {},
   "outputs": [
    {
     "name": "stderr",
     "output_type": "stream",
     "text": [
      "/var/folders/49/v6sf5vy165dghytk4qv6jfhc0000gn/T/ipykernel_2083/383879126.py:3: FutureWarning: The frame.append method is deprecated and will be removed from pandas in a future version. Use pandas.concat instead.\n",
      "  metric_df = metric_df.append(\n"
     ]
    }
   ],
   "source": [
    "#Append this to the metric_df\n",
    "\n",
    "metric_df = metric_df.append(\n",
    "    {\n",
    "        'model' : 'Tweedie Regressor-kbest-pow0',\n",
    "        'RMSE_train' : rmse_train,\n",
    "        'RMSE_validate' : rmse_validate,\n",
    "        'difference' : rmse_validate - rmse_train,\n",
    "        'R2' : explained_variance_score(y_validate.quality,\n",
    "                                       y_validate.quality_pred_glm_kbest_pow0)\n",
    "    }, ignore_index=True\n",
    ")"
   ]
  },
  {
   "cell_type": "code",
   "execution_count": 58,
   "id": "2211b252",
   "metadata": {},
   "outputs": [],
   "source": [
    "# make la thing\n",
    "glm_rfe_pow0 = TweedieRegressor(power=0, alpha=0)\n",
    "# fit za thing\n",
    "glm_rfe_pow0.fit(X_train[f_feature_rfe], y_train.quality)\n",
    "# usage of a thing\n",
    "y_train['quality_pred_glm_rfe_pow0'] = glm_rfe_pow0.predict(\n",
    "    X_train[f_feature_rfe])\n",
    "# Evaluate: RMSE\n",
    "rmse_train = mean_squared_error(y_train.quality, \n",
    "                                y_train.quality_pred_glm_rfe_pow0, squared=False)\n",
    "\n",
    "# repeat usage on validate\n",
    "y_validate['quality_pred_glm_rfe_pow0'] = glm_rfe_pow0.predict(\n",
    "    X_validate[f_feature_rfe])\n",
    "# evaluate: RMSE\n",
    "rmse_validate = mean_squared_error(y_validate.quality, \n",
    "                                   y_validate.quality_pred_glm_rfe_pow0, squared=False)"
   ]
  },
  {
   "cell_type": "code",
   "execution_count": 59,
   "id": "4ed8f89d",
   "metadata": {},
   "outputs": [
    {
     "name": "stderr",
     "output_type": "stream",
     "text": [
      "/var/folders/49/v6sf5vy165dghytk4qv6jfhc0000gn/T/ipykernel_2083/2079212447.py:3: FutureWarning: The frame.append method is deprecated and will be removed from pandas in a future version. Use pandas.concat instead.\n",
      "  metric_df = metric_df.append(\n"
     ]
    }
   ],
   "source": [
    "#Append this to the metric_df\n",
    "\n",
    "metric_df = metric_df.append(\n",
    "    {\n",
    "        'model' : 'Tweedie Regressor-rfe-pow0',\n",
    "        'RMSE_train' : rmse_train,\n",
    "        'RMSE_validate' : rmse_validate,\n",
    "        'difference' : rmse_validate - rmse_train,\n",
    "        'R2' : explained_variance_score(y_validate.quality,\n",
    "                                       y_validate.quality_pred_glm_rfe_pow0)\n",
    "    }, ignore_index=True\n",
    ")"
   ]
  },
  {
   "cell_type": "code",
   "execution_count": 61,
   "id": "b24cc3c9",
   "metadata": {},
   "outputs": [],
   "source": [
    "# make la thing\n",
    "glm_kbest_pow1 = TweedieRegressor(power=1, alpha=0)\n",
    "# fit za thing\n",
    "glm_kbest_pow1.fit(X_train[f_feature_kbest], y_train.quality)\n",
    "# usage of a thing\n",
    "y_train['quality_pred_glm_kbest_pow1'] = glm_kbest_pow1.predict(\n",
    "    X_train[f_feature_kbest])\n",
    "# Evaluate: RMSE\n",
    "rmse_train = mean_squared_error(y_train.quality, \n",
    "                                y_train.quality_pred_glm_kbest_pow1, squared=False)\n",
    "\n",
    "# repeat usage on validate\n",
    "y_validate['quality_pred_glm_kbest_pow1'] = glm_kbest_pow1.predict(\n",
    "    X_validate[f_feature_kbest])\n",
    "# evaluate: RMSE\n",
    "rmse_validate = mean_squared_error(y_validate.quality, \n",
    "                                   y_validate.quality_pred_glm_kbest_pow1, squared=False)"
   ]
  },
  {
   "cell_type": "code",
   "execution_count": 62,
   "id": "0b1713c3",
   "metadata": {},
   "outputs": [
    {
     "name": "stderr",
     "output_type": "stream",
     "text": [
      "/var/folders/49/v6sf5vy165dghytk4qv6jfhc0000gn/T/ipykernel_2083/2662707456.py:3: FutureWarning: The frame.append method is deprecated and will be removed from pandas in a future version. Use pandas.concat instead.\n",
      "  metric_df = metric_df.append(\n"
     ]
    }
   ],
   "source": [
    "#Append this to the metric_df\n",
    "\n",
    "metric_df = metric_df.append(\n",
    "    {\n",
    "        'model' : 'Tweedie Regressor-kbest-pow1',\n",
    "        'RMSE_train' : rmse_train,\n",
    "        'RMSE_validate' : rmse_validate,\n",
    "        'difference' : rmse_validate - rmse_train,\n",
    "        'R2' : explained_variance_score(y_validate.quality,\n",
    "                                       y_validate.quality_pred_glm_kbest_pow1)\n",
    "    }, ignore_index=True\n",
    ")"
   ]
  },
  {
   "cell_type": "markdown",
   "id": "107488e0",
   "metadata": {},
   "source": [
    "## Generalized Linear Model - Power 1"
   ]
  },
  {
   "cell_type": "code",
   "execution_count": 63,
   "id": "6f3a8a4f",
   "metadata": {},
   "outputs": [],
   "source": [
    "# make la thing\n",
    "glm_rfe_pow1 = TweedieRegressor(power=1, alpha=0)\n",
    "# fit za thing\n",
    "glm_rfe_pow1.fit(X_train[f_feature_rfe], y_train.quality)\n",
    "# usage of a thing\n",
    "y_train['quality_pred_glm_rfe_pow1'] = glm_rfe_pow1.predict(\n",
    "    X_train[f_feature_rfe])\n",
    "# Evaluate: RMSE\n",
    "rmse_train = mean_squared_error(y_train.quality, \n",
    "                                y_train.quality_pred_glm_rfe_pow1, squared=False)\n",
    "\n",
    "# repeat usage on validate\n",
    "y_validate['quality_pred_glm_rfe_pow1'] = glm_rfe_pow1.predict(\n",
    "    X_validate[f_feature_rfe])\n",
    "# evaluate: RMSE\n",
    "rmse_validate = mean_squared_error(y_validate.quality, \n",
    "                                   y_validate.quality_pred_glm_rfe_pow1, squared=False)"
   ]
  },
  {
   "cell_type": "code",
   "execution_count": 64,
   "id": "c589c9cf",
   "metadata": {},
   "outputs": [
    {
     "name": "stderr",
     "output_type": "stream",
     "text": [
      "/var/folders/49/v6sf5vy165dghytk4qv6jfhc0000gn/T/ipykernel_2083/1849712852.py:3: FutureWarning: The frame.append method is deprecated and will be removed from pandas in a future version. Use pandas.concat instead.\n",
      "  metric_df = metric_df.append(\n"
     ]
    }
   ],
   "source": [
    "#Append this to the metric_df\n",
    "\n",
    "metric_df = metric_df.append(\n",
    "    {\n",
    "        'model' : 'Tweedie Regressor-rfe-pow1',\n",
    "        'RMSE_train' : rmse_train,\n",
    "        'RMSE_validate' : rmse_validate,\n",
    "        'difference' : rmse_validate - rmse_train,\n",
    "        'R2' : explained_variance_score(y_validate.quality,\n",
    "                                       y_validate.quality_pred_glm_rfe_pow1)\n",
    "    }, ignore_index=True\n",
    ")"
   ]
  },
  {
   "cell_type": "code",
   "execution_count": 65,
   "id": "67320c1d",
   "metadata": {},
   "outputs": [
    {
     "data": {
      "text/html": [
       "<div>\n",
       "<style scoped>\n",
       "    .dataframe tbody tr th:only-of-type {\n",
       "        vertical-align: middle;\n",
       "    }\n",
       "\n",
       "    .dataframe tbody tr th {\n",
       "        vertical-align: top;\n",
       "    }\n",
       "\n",
       "    .dataframe thead th {\n",
       "        text-align: right;\n",
       "    }\n",
       "</style>\n",
       "<table border=\"1\" class=\"dataframe\">\n",
       "  <thead>\n",
       "    <tr style=\"text-align: right;\">\n",
       "      <th></th>\n",
       "      <th>model</th>\n",
       "      <th>RMSE_train</th>\n",
       "      <th>RMSE_validate</th>\n",
       "      <th>difference</th>\n",
       "      <th>R2</th>\n",
       "    </tr>\n",
       "  </thead>\n",
       "  <tbody>\n",
       "    <tr>\n",
       "      <th>0</th>\n",
       "      <td>mean_baseline</td>\n",
       "      <td>0.866273</td>\n",
       "      <td>0.889468</td>\n",
       "      <td>0.023195</td>\n",
       "      <td>0.000000</td>\n",
       "    </tr>\n",
       "    <tr>\n",
       "      <th>1</th>\n",
       "      <td>OLS-KBest features</td>\n",
       "      <td>0.743465</td>\n",
       "      <td>0.755903</td>\n",
       "      <td>0.012438</td>\n",
       "      <td>0.277938</td>\n",
       "    </tr>\n",
       "    <tr>\n",
       "      <th>2</th>\n",
       "      <td>OLS-rfe features</td>\n",
       "      <td>0.796045</td>\n",
       "      <td>0.801053</td>\n",
       "      <td>0.005008</td>\n",
       "      <td>0.189190</td>\n",
       "    </tr>\n",
       "    <tr>\n",
       "      <th>3</th>\n",
       "      <td>Lasso + Lars-kbest-0.1</td>\n",
       "      <td>0.866273</td>\n",
       "      <td>0.889468</td>\n",
       "      <td>0.023195</td>\n",
       "      <td>0.000000</td>\n",
       "    </tr>\n",
       "    <tr>\n",
       "      <th>4</th>\n",
       "      <td>Lasso + Lars-rfe-0.1</td>\n",
       "      <td>0.866273</td>\n",
       "      <td>0.889468</td>\n",
       "      <td>0.023195</td>\n",
       "      <td>0.000000</td>\n",
       "    </tr>\n",
       "    <tr>\n",
       "      <th>5</th>\n",
       "      <td>Lasso + Lars-kbest-0.01</td>\n",
       "      <td>0.866273</td>\n",
       "      <td>0.889468</td>\n",
       "      <td>0.023195</td>\n",
       "      <td>0.000000</td>\n",
       "    </tr>\n",
       "    <tr>\n",
       "      <th>6</th>\n",
       "      <td>Lasso + Lars-rfe-0.01</td>\n",
       "      <td>0.866273</td>\n",
       "      <td>0.889468</td>\n",
       "      <td>0.023195</td>\n",
       "      <td>0.000000</td>\n",
       "    </tr>\n",
       "    <tr>\n",
       "      <th>7</th>\n",
       "      <td>Tweedie Regressor-kbest-pow0</td>\n",
       "      <td>0.748028</td>\n",
       "      <td>0.759127</td>\n",
       "      <td>0.011099</td>\n",
       "      <td>0.271930</td>\n",
       "    </tr>\n",
       "    <tr>\n",
       "      <th>8</th>\n",
       "      <td>Tweedie Regressor-rfe-pow0</td>\n",
       "      <td>0.796045</td>\n",
       "      <td>0.801034</td>\n",
       "      <td>0.004989</td>\n",
       "      <td>0.189231</td>\n",
       "    </tr>\n",
       "    <tr>\n",
       "      <th>9</th>\n",
       "      <td>Tweedie Regressor-kbest-pow1</td>\n",
       "      <td>0.747795</td>\n",
       "      <td>0.759121</td>\n",
       "      <td>0.011326</td>\n",
       "      <td>0.271987</td>\n",
       "    </tr>\n",
       "    <tr>\n",
       "      <th>10</th>\n",
       "      <td>Tweedie Regressor-rfe-pow1</td>\n",
       "      <td>0.794569</td>\n",
       "      <td>0.800553</td>\n",
       "      <td>0.005984</td>\n",
       "      <td>0.190211</td>\n",
       "    </tr>\n",
       "  </tbody>\n",
       "</table>\n",
       "</div>"
      ],
      "text/plain": [
       "                           model  RMSE_train  RMSE_validate  difference  \\\n",
       "0                  mean_baseline    0.866273       0.889468    0.023195   \n",
       "1             OLS-KBest features    0.743465       0.755903    0.012438   \n",
       "2               OLS-rfe features    0.796045       0.801053    0.005008   \n",
       "3         Lasso + Lars-kbest-0.1    0.866273       0.889468    0.023195   \n",
       "4           Lasso + Lars-rfe-0.1    0.866273       0.889468    0.023195   \n",
       "5        Lasso + Lars-kbest-0.01    0.866273       0.889468    0.023195   \n",
       "6          Lasso + Lars-rfe-0.01    0.866273       0.889468    0.023195   \n",
       "7   Tweedie Regressor-kbest-pow0    0.748028       0.759127    0.011099   \n",
       "8     Tweedie Regressor-rfe-pow0    0.796045       0.801034    0.004989   \n",
       "9   Tweedie Regressor-kbest-pow1    0.747795       0.759121    0.011326   \n",
       "10    Tweedie Regressor-rfe-pow1    0.794569       0.800553    0.005984   \n",
       "\n",
       "          R2  \n",
       "0   0.000000  \n",
       "1   0.277938  \n",
       "2   0.189190  \n",
       "3   0.000000  \n",
       "4   0.000000  \n",
       "5   0.000000  \n",
       "6   0.000000  \n",
       "7   0.271930  \n",
       "8   0.189231  \n",
       "9   0.271987  \n",
       "10  0.190211  "
      ]
     },
     "execution_count": 65,
     "metadata": {},
     "output_type": "execute_result"
    }
   ],
   "source": [
    "metric_df"
   ]
  },
  {
   "cell_type": "code",
   "execution_count": 66,
   "id": "b95b65dc",
   "metadata": {},
   "outputs": [],
   "source": [
    "#1. Create the polynomial features to get a new set of features\n",
    "pf = PolynomialFeatures(degree=2) #quadratic function\n",
    "\n",
    "# Fit and transform X_train\n",
    "X_train_degree2 = pf.fit_transform(X_train[f_feature_kbest])\n",
    "\n",
    "# Transform X_validate & X_test \n",
    "X_validate_degree2 = pf.fit_transform(X_validate[f_feature_kbest])\n",
    "X_test_degree2 = pf.fit_transform(X_test[f_feature_kbest])\n",
    "\n",
    "# make la thing\n",
    "lm2_kbest = LinearRegression()\n",
    "# fit za thing\n",
    "lm2_kbest.fit(X_train_degree2, y_train.quality)\n",
    "# usage of a thing\n",
    "y_train['quality_pred_lm2_kbest'] = lm2_kbest.predict(X_train_degree2)\n",
    "# Evaluate: RMSE\n",
    "rmse_train = mean_squared_error(y_train.quality, \n",
    "                                y_train.quality_pred_lm2_kbest, squared=False)\n",
    "\n",
    "# repeat usage on validate\n",
    "y_validate['quality_pred_lm2_kbest'] = lm2_kbest.predict(X_validate_degree2)\n",
    "# evaluate: RMSE\n",
    "rmse_validate = mean_squared_error(y_validate.quality, \n",
    "                                   y_validate.quality_pred_lm2_kbest, squared=False)"
   ]
  },
  {
   "cell_type": "code",
   "execution_count": 67,
   "id": "7be06f1e",
   "metadata": {},
   "outputs": [
    {
     "name": "stderr",
     "output_type": "stream",
     "text": [
      "/var/folders/49/v6sf5vy165dghytk4qv6jfhc0000gn/T/ipykernel_2083/1284206887.py:3: FutureWarning: The frame.append method is deprecated and will be removed from pandas in a future version. Use pandas.concat instead.\n",
      "  metric_df = metric_df.append(\n"
     ]
    }
   ],
   "source": [
    "#Append this to the metric_df\n",
    "\n",
    "metric_df = metric_df.append(\n",
    "    {\n",
    "        'model' : 'Polynomial-kbest',\n",
    "        'RMSE_train' : rmse_train,\n",
    "        'RMSE_validate' : rmse_validate,\n",
    "        'difference' : rmse_validate - rmse_train,\n",
    "        'R2' : explained_variance_score(y_validate.quality,\n",
    "                                       y_validate.quality_pred_lm2_kbest)\n",
    "    }, ignore_index=True\n",
    ")"
   ]
  },
  {
   "cell_type": "markdown",
   "id": "087ff912",
   "metadata": {},
   "source": [
    "## Polynomial Regressor"
   ]
  },
  {
   "cell_type": "code",
   "execution_count": 68,
   "id": "5eaebd6d",
   "metadata": {},
   "outputs": [],
   "source": [
    "#1. Create the polynomial features to get a new set of features\n",
    "pf = PolynomialFeatures(degree=2) #quadratic function\n",
    "\n",
    "# Fit and transform X_train\n",
    "X_train_degree2 = pf.fit_transform(X_train[f_feature_rfe])\n",
    "\n",
    "# Transform X_validate & X_test \n",
    "X_validate_degree2 = pf.fit_transform(X_validate[f_feature_rfe])\n",
    "X_test_degree2 = pf.fit_transform(X_test[f_feature_rfe])\n",
    "\n",
    "# make la thing\n",
    "lm2_rfe = LinearRegression()\n",
    "# fit za thing\n",
    "lm2_rfe.fit(X_train_degree2, y_train.quality)\n",
    "# usage of a thing\n",
    "y_train['quality_pred_lm2_rfe'] = lm2_rfe.predict(X_train_degree2)\n",
    "# Evaluate: RMSE\n",
    "rmse_train = mean_squared_error(y_train.quality, \n",
    "                                y_train.quality_pred_lm2_rfe, squared=False)\n",
    "\n",
    "# repeat usage on validate\n",
    "y_validate['quality_pred_lm2_rfe'] = lm2_rfe.predict(X_validate_degree2)\n",
    "# evaluate: RMSE\n",
    "rmse_validate = mean_squared_error(y_validate.quality, \n",
    "                                   y_validate.quality_pred_lm2_rfe, squared=False)"
   ]
  },
  {
   "cell_type": "code",
   "execution_count": 69,
   "id": "6f945159",
   "metadata": {},
   "outputs": [
    {
     "name": "stderr",
     "output_type": "stream",
     "text": [
      "/var/folders/49/v6sf5vy165dghytk4qv6jfhc0000gn/T/ipykernel_2083/3384416370.py:3: FutureWarning: The frame.append method is deprecated and will be removed from pandas in a future version. Use pandas.concat instead.\n",
      "  metric_df = metric_df.append(\n"
     ]
    }
   ],
   "source": [
    "#Append this to the metric_df\n",
    "\n",
    "metric_df = metric_df.append(\n",
    "    {\n",
    "        'model' : 'Polynomial-rfe',\n",
    "        'RMSE_train' : rmse_train,\n",
    "        'RMSE_validate' : rmse_validate,\n",
    "        'difference' : rmse_validate - rmse_train,\n",
    "        'R2' : explained_variance_score(y_validate.quality,\n",
    "                                       y_validate.quality_pred_lm2_rfe)\n",
    "    }, ignore_index=True\n",
    ")"
   ]
  },
  {
   "cell_type": "code",
   "execution_count": 70,
   "id": "d366b31e",
   "metadata": {},
   "outputs": [
    {
     "data": {
      "text/html": [
       "<div>\n",
       "<style scoped>\n",
       "    .dataframe tbody tr th:only-of-type {\n",
       "        vertical-align: middle;\n",
       "    }\n",
       "\n",
       "    .dataframe tbody tr th {\n",
       "        vertical-align: top;\n",
       "    }\n",
       "\n",
       "    .dataframe thead th {\n",
       "        text-align: right;\n",
       "    }\n",
       "</style>\n",
       "<table border=\"1\" class=\"dataframe\">\n",
       "  <thead>\n",
       "    <tr style=\"text-align: right;\">\n",
       "      <th></th>\n",
       "      <th>model</th>\n",
       "      <th>RMSE_train</th>\n",
       "      <th>RMSE_validate</th>\n",
       "      <th>difference</th>\n",
       "      <th>R2</th>\n",
       "    </tr>\n",
       "  </thead>\n",
       "  <tbody>\n",
       "    <tr>\n",
       "      <th>0</th>\n",
       "      <td>mean_baseline</td>\n",
       "      <td>0.866273</td>\n",
       "      <td>0.889468</td>\n",
       "      <td>0.023195</td>\n",
       "      <td>0.000000</td>\n",
       "    </tr>\n",
       "    <tr>\n",
       "      <th>1</th>\n",
       "      <td>OLS-KBest features</td>\n",
       "      <td>0.743465</td>\n",
       "      <td>0.755903</td>\n",
       "      <td>0.012438</td>\n",
       "      <td>0.277938</td>\n",
       "    </tr>\n",
       "    <tr>\n",
       "      <th>2</th>\n",
       "      <td>OLS-rfe features</td>\n",
       "      <td>0.796045</td>\n",
       "      <td>0.801053</td>\n",
       "      <td>0.005008</td>\n",
       "      <td>0.189190</td>\n",
       "    </tr>\n",
       "    <tr>\n",
       "      <th>3</th>\n",
       "      <td>Lasso + Lars-kbest-0.1</td>\n",
       "      <td>0.866273</td>\n",
       "      <td>0.889468</td>\n",
       "      <td>0.023195</td>\n",
       "      <td>0.000000</td>\n",
       "    </tr>\n",
       "    <tr>\n",
       "      <th>4</th>\n",
       "      <td>Lasso + Lars-rfe-0.1</td>\n",
       "      <td>0.866273</td>\n",
       "      <td>0.889468</td>\n",
       "      <td>0.023195</td>\n",
       "      <td>0.000000</td>\n",
       "    </tr>\n",
       "    <tr>\n",
       "      <th>5</th>\n",
       "      <td>Lasso + Lars-kbest-0.01</td>\n",
       "      <td>0.866273</td>\n",
       "      <td>0.889468</td>\n",
       "      <td>0.023195</td>\n",
       "      <td>0.000000</td>\n",
       "    </tr>\n",
       "    <tr>\n",
       "      <th>6</th>\n",
       "      <td>Lasso + Lars-rfe-0.01</td>\n",
       "      <td>0.866273</td>\n",
       "      <td>0.889468</td>\n",
       "      <td>0.023195</td>\n",
       "      <td>0.000000</td>\n",
       "    </tr>\n",
       "    <tr>\n",
       "      <th>7</th>\n",
       "      <td>Tweedie Regressor-kbest-pow0</td>\n",
       "      <td>0.748028</td>\n",
       "      <td>0.759127</td>\n",
       "      <td>0.011099</td>\n",
       "      <td>0.271930</td>\n",
       "    </tr>\n",
       "    <tr>\n",
       "      <th>8</th>\n",
       "      <td>Tweedie Regressor-rfe-pow0</td>\n",
       "      <td>0.796045</td>\n",
       "      <td>0.801034</td>\n",
       "      <td>0.004989</td>\n",
       "      <td>0.189231</td>\n",
       "    </tr>\n",
       "    <tr>\n",
       "      <th>9</th>\n",
       "      <td>Tweedie Regressor-kbest-pow1</td>\n",
       "      <td>0.747795</td>\n",
       "      <td>0.759121</td>\n",
       "      <td>0.011326</td>\n",
       "      <td>0.271987</td>\n",
       "    </tr>\n",
       "    <tr>\n",
       "      <th>10</th>\n",
       "      <td>Tweedie Regressor-rfe-pow1</td>\n",
       "      <td>0.794569</td>\n",
       "      <td>0.800553</td>\n",
       "      <td>0.005984</td>\n",
       "      <td>0.190211</td>\n",
       "    </tr>\n",
       "    <tr>\n",
       "      <th>11</th>\n",
       "      <td>Polynomial-kbest</td>\n",
       "      <td>0.737272</td>\n",
       "      <td>0.752619</td>\n",
       "      <td>0.015347</td>\n",
       "      <td>0.284135</td>\n",
       "    </tr>\n",
       "    <tr>\n",
       "      <th>12</th>\n",
       "      <td>Polynomial-rfe</td>\n",
       "      <td>0.778699</td>\n",
       "      <td>0.784771</td>\n",
       "      <td>0.006072</td>\n",
       "      <td>0.221693</td>\n",
       "    </tr>\n",
       "  </tbody>\n",
       "</table>\n",
       "</div>"
      ],
      "text/plain": [
       "                           model  RMSE_train  RMSE_validate  difference  \\\n",
       "0                  mean_baseline    0.866273       0.889468    0.023195   \n",
       "1             OLS-KBest features    0.743465       0.755903    0.012438   \n",
       "2               OLS-rfe features    0.796045       0.801053    0.005008   \n",
       "3         Lasso + Lars-kbest-0.1    0.866273       0.889468    0.023195   \n",
       "4           Lasso + Lars-rfe-0.1    0.866273       0.889468    0.023195   \n",
       "5        Lasso + Lars-kbest-0.01    0.866273       0.889468    0.023195   \n",
       "6          Lasso + Lars-rfe-0.01    0.866273       0.889468    0.023195   \n",
       "7   Tweedie Regressor-kbest-pow0    0.748028       0.759127    0.011099   \n",
       "8     Tweedie Regressor-rfe-pow0    0.796045       0.801034    0.004989   \n",
       "9   Tweedie Regressor-kbest-pow1    0.747795       0.759121    0.011326   \n",
       "10    Tweedie Regressor-rfe-pow1    0.794569       0.800553    0.005984   \n",
       "11              Polynomial-kbest    0.737272       0.752619    0.015347   \n",
       "12                Polynomial-rfe    0.778699       0.784771    0.006072   \n",
       "\n",
       "          R2  \n",
       "0   0.000000  \n",
       "1   0.277938  \n",
       "2   0.189190  \n",
       "3   0.000000  \n",
       "4   0.000000  \n",
       "5   0.000000  \n",
       "6   0.000000  \n",
       "7   0.271930  \n",
       "8   0.189231  \n",
       "9   0.271987  \n",
       "10  0.190211  \n",
       "11  0.284135  \n",
       "12  0.221693  "
      ]
     },
     "execution_count": 70,
     "metadata": {},
     "output_type": "execute_result"
    }
   ],
   "source": [
    "metric_df"
   ]
  },
  {
   "cell_type": "code",
   "execution_count": 72,
   "id": "e3f49b49",
   "metadata": {},
   "outputs": [],
   "source": [
    "def get_pred_error_plot(y_test):\n",
    "    plt.figure(figsize=(16,8))\n",
    "    plt.axhline(label=\"No Error\")\n",
    "\n",
    "    plt.scatter(y_test.quality, (y_test.quality_pred_lm2 - y_test.quality), \n",
    "                alpha=.5, color=\"grey\", s=100, label=\"Model 2nd degree Polynomial\")\n",
    "\n",
    "    plt.xticks(ticks=[0,200_000,400_000,600_000,800_000,1_000_000], \n",
    "               labels=['0', '200,000', '400,000', '600,000', '800,000', '1,000,000'],\n",
    "               size = 12)\n",
    "    plt.yticks(size=12,\n",
    "               ticks=[600_000, 400_000, 200_000, 0, -200_000, -400_000, \n",
    "                      -600_000, -800_000, -1_000_000],\n",
    "               labels=['600,000', '400,000', '200,000', '0', '-200,000', '-400,000', \n",
    "                      '-600,000', '-800,000', '-1,000,000'])\n",
    "    plt.xlabel('Actual Home Value (Dollars)', size=14)\n",
    "    plt.ylabel('Prediction Error (Dollars)', size=14)\n",
    "    plt.title('Prediction Error of Polynomial Regression Model', size=16)\n",
    "    plt.legend(loc=1)\n",
    "    plt.show()"
   ]
  },
  {
   "cell_type": "code",
   "execution_count": 73,
   "id": "d84284ca",
   "metadata": {},
   "outputs": [
    {
     "ename": "AttributeError",
     "evalue": "'DataFrame' object has no attribute 'quality_pred_lm2'",
     "output_type": "error",
     "traceback": [
      "\u001b[0;31m---------------------------------------------------------------------------\u001b[0m",
      "\u001b[0;31mAttributeError\u001b[0m                            Traceback (most recent call last)",
      "\u001b[0;32m/var/folders/49/v6sf5vy165dghytk4qv6jfhc0000gn/T/ipykernel_2083/4228142303.py\u001b[0m in \u001b[0;36m<module>\u001b[0;34m\u001b[0m\n\u001b[0;32m----> 1\u001b[0;31m \u001b[0mget_pred_error_plot\u001b[0m\u001b[0;34m(\u001b[0m\u001b[0my_test\u001b[0m\u001b[0;34m)\u001b[0m\u001b[0;34m\u001b[0m\u001b[0;34m\u001b[0m\u001b[0m\n\u001b[0m",
      "\u001b[0;32m/var/folders/49/v6sf5vy165dghytk4qv6jfhc0000gn/T/ipykernel_2083/4242779996.py\u001b[0m in \u001b[0;36mget_pred_error_plot\u001b[0;34m(y_test)\u001b[0m\n\u001b[1;32m      3\u001b[0m     \u001b[0mplt\u001b[0m\u001b[0;34m.\u001b[0m\u001b[0maxhline\u001b[0m\u001b[0;34m(\u001b[0m\u001b[0mlabel\u001b[0m\u001b[0;34m=\u001b[0m\u001b[0;34m\"No Error\"\u001b[0m\u001b[0;34m)\u001b[0m\u001b[0;34m\u001b[0m\u001b[0;34m\u001b[0m\u001b[0m\n\u001b[1;32m      4\u001b[0m \u001b[0;34m\u001b[0m\u001b[0m\n\u001b[0;32m----> 5\u001b[0;31m     plt.scatter(y_test.quality, (y_test.quality_pred_lm2 - y_test.quality), \n\u001b[0m\u001b[1;32m      6\u001b[0m                 alpha=.5, color=\"grey\", s=100, label=\"Model 2nd degree Polynomial\")\n\u001b[1;32m      7\u001b[0m \u001b[0;34m\u001b[0m\u001b[0m\n",
      "\u001b[0;32m/opt/anaconda3/lib/python3.9/site-packages/pandas/core/generic.py\u001b[0m in \u001b[0;36m__getattr__\u001b[0;34m(self, name)\u001b[0m\n\u001b[1;32m   5573\u001b[0m         ):\n\u001b[1;32m   5574\u001b[0m             \u001b[0;32mreturn\u001b[0m \u001b[0mself\u001b[0m\u001b[0;34m[\u001b[0m\u001b[0mname\u001b[0m\u001b[0;34m]\u001b[0m\u001b[0;34m\u001b[0m\u001b[0;34m\u001b[0m\u001b[0m\n\u001b[0;32m-> 5575\u001b[0;31m         \u001b[0;32mreturn\u001b[0m \u001b[0mobject\u001b[0m\u001b[0;34m.\u001b[0m\u001b[0m__getattribute__\u001b[0m\u001b[0;34m(\u001b[0m\u001b[0mself\u001b[0m\u001b[0;34m,\u001b[0m \u001b[0mname\u001b[0m\u001b[0;34m)\u001b[0m\u001b[0;34m\u001b[0m\u001b[0;34m\u001b[0m\u001b[0m\n\u001b[0m\u001b[1;32m   5576\u001b[0m \u001b[0;34m\u001b[0m\u001b[0m\n\u001b[1;32m   5577\u001b[0m     \u001b[0;32mdef\u001b[0m \u001b[0m__setattr__\u001b[0m\u001b[0;34m(\u001b[0m\u001b[0mself\u001b[0m\u001b[0;34m,\u001b[0m \u001b[0mname\u001b[0m\u001b[0;34m:\u001b[0m \u001b[0mstr\u001b[0m\u001b[0;34m,\u001b[0m \u001b[0mvalue\u001b[0m\u001b[0;34m)\u001b[0m \u001b[0;34m->\u001b[0m \u001b[0;32mNone\u001b[0m\u001b[0;34m:\u001b[0m\u001b[0;34m\u001b[0m\u001b[0;34m\u001b[0m\u001b[0m\n",
      "\u001b[0;31mAttributeError\u001b[0m: 'DataFrame' object has no attribute 'quality_pred_lm2'"
     ]
    },
    {
     "data": {
      "image/png": "[encoded data removed]",
      "text/plain": [
       "<Figure size 1600x800 with 1 Axes>"
      ]
     },
     "metadata": {},
     "output_type": "display_data"
    }
   ],
   "source": [
    "get_pred_error_plot(y_test)"
   ]
  }
 ],
 "metadata": {
  "kernelspec": {
   "display_name": "Python 3 (ipykernel)",
   "language": "python",
   "name": "python3"
  },
  "language_info": {
   "codemirror_mode": {
    "name": "ipython",
    "version": 3
   },
   "file_extension": ".py",
   "mimetype": "text/x-python",
   "name": "python",
   "nbconvert_exporter": "python",
   "pygments_lexer": "ipython3",
   "version": "3.9.13"
  }
 },
 "nbformat": 4,
 "nbformat_minor": 5
}
