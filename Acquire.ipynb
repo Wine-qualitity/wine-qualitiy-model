{
 "cells": [
  {
   "cell_type": "code",
   "execution_count": 13,
   "id": "da315620-3262-4992-a2b5-46d772fce6b6",
   "metadata": {
    "tags": []
   },
   "outputs": [],
   "source": [
    "import pandas as pd\n",
    "import os \n",
    "def acquire_data():\n",
    "    \n",
    "    if os.path.exists('wine_data.csv'):\n",
    "        df = pd.read_csv('wine_data.csv')\n",
    "    else:\n",
    "        df_1 = pd.read_csv('https://query.data.world/s/s7hsvetdhmtlkdq4x6ofz3wd5snwut?dws=00000')\n",
    "        df_2 = pd.read_csv('https://query.data.world/s/dth4xlpnfu3lnyln2lxfdms4vxf3hl?dws=00000')\n",
    "        df_1['type_of_wine'] = ['Red'] * len(df_1)\n",
    "        df_2['type_of_wine'] = ['White'] * len(df_2)\n",
    "        combine = [df_1,df_2]\n",
    "        df = pd.concat(combine)\n",
    "        df.to_csv('wine_data.csv',index=False)\n",
    "    \n",
    "    return df"
   ]
  }
 ],
 "metadata": {
  "kernelspec": {
   "display_name": "Python 3 (ipykernel)",
   "language": "python",
   "name": "python3"
  },
  "language_info": {
   "codemirror_mode": {
    "name": "ipython",
    "version": 3
   },
   "file_extension": ".py",
   "mimetype": "text/x-python",
   "name": "python",
   "nbconvert_exporter": "python",
   "pygments_lexer": "ipython3",
   "version": "3.10.9"
  }
 },
 "nbformat": 4,
 "nbformat_minor": 5
}
